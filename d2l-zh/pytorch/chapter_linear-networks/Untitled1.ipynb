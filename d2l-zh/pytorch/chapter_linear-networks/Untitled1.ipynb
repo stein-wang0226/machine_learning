{
 "cells": [
  {
   "cell_type": "code",
   "execution_count": 5,
   "id": "66161dd8",
   "metadata": {},
   "outputs": [
    {
     "data": {
      "text/plain": [
       "tensor([2, 4, 6])"
      ]
     },
     "execution_count": 5,
     "metadata": {},
     "output_type": "execute_result"
    }
   ],
   "source": [
    "import torch\n",
    "import numpy as np\n",
    "\n",
    "a=torch.tensor([1,2,3])\n",
    "b=torch.tensor([1,2,3])\n",
    "a+b"
   ]
  },
  {
   "cell_type": "code",
   "execution_count": 17,
   "id": "6171be7c",
   "metadata": {},
   "outputs": [
    {
     "name": "stdout",
     "output_type": "stream",
     "text": [
      "0\n",
      "1\n",
      "2\n",
      "3\n",
      "------\n",
      "4\n",
      "5\n",
      "6\n",
      "7\n",
      "------\n"
     ]
    }
   ],
   "source": [
    "generator=(x for x in range(8))\n",
    "print(next(generator))\n",
    "print(next(generator))\n",
    "print(next(generator))\n",
    "print(next(generator))\n",
    "print('------')\n",
    "for i in generator :\n",
    "    print(i)\n",
    "print('------')\n",
    "\n",
    "for i in generator:\n",
    "    print(\"ooo\")"
   ]
  },
  {
   "cell_type": "code",
   "execution_count": 19,
   "id": "3d379164",
   "metadata": {},
   "outputs": [],
   "source": [
    "def run_time(func):\n",
    "    def warp(*args, **kwargs):\n",
    "        # do somethings.\n",
    "        temp = func(*args, **kwargs) # 执行函数\n",
    "        return temp\n",
    "    return warp\n",
    "@run_time\n",
    "def foo(a, b, c):\n",
    "    return (a,b,c)\n",
    "\n"
   ]
  },
  {
   "cell_type": "code",
   "execution_count": null,
   "id": "b2136201",
   "metadata": {},
   "outputs": [],
   "source": []
  }
 ],
 "metadata": {
  "kernelspec": {
   "display_name": "Python 3 (ipykernel)",
   "language": "python",
   "name": "python3"
  },
  "language_info": {
   "codemirror_mode": {
    "name": "ipython",
    "version": 3
   },
   "file_extension": ".py",
   "mimetype": "text/x-python",
   "name": "python",
   "nbconvert_exporter": "python",
   "pygments_lexer": "ipython3",
   "version": "3.9.12"
  }
 },
 "nbformat": 4,
 "nbformat_minor": 5
}
