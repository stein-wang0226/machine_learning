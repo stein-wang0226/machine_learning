{
 "cells": [
  {
   "cell_type": "markdown",
   "id": "7a97838f",
   "metadata": {
    "origin_pos": 0
   },
   "source": [
    "# 图像分类数据集\n",
    ":label:`sec_fashion_mnist`\n",
    "\n",
    "(**MNIST数据集**) :cite:`LeCun.Bottou.Bengio.ea.1998`\n",
    "(**是图像分类中广泛使用的数据集之一，但作为基准数据集过于简单。\n",
    "我们将使用类似但更复杂的Fashion-MNIST数据集**) :cite:`Xiao.Rasul.Vollgraf.2017`。\n"
   ]
  },
  {
   "cell_type": "code",
   "execution_count": 2,
   "id": "555b9f78",
   "metadata": {
    "execution": {
     "iopub.execute_input": "2022-07-31T02:52:11.869376Z",
     "iopub.status.busy": "2022-07-31T02:52:11.869001Z",
     "iopub.status.idle": "2022-07-31T02:52:16.368931Z",
     "shell.execute_reply": "2022-07-31T02:52:16.368215Z"
    },
    "origin_pos": 2,
    "tab": [
     "pytorch"
    ]
   },
   "outputs": [
    {
     "ename": "ModuleNotFoundError",
     "evalue": "No module named 'torch'",
     "output_type": "error",
     "traceback": [
      "\u001b[1;31m---------------------------------------------------------------------------\u001b[0m",
      "\u001b[1;31mModuleNotFoundError\u001b[0m                       Traceback (most recent call last)",
      "Input \u001b[1;32mIn [2]\u001b[0m, in \u001b[0;36m<cell line: 2>\u001b[1;34m()\u001b[0m\n\u001b[0;32m      1\u001b[0m get_ipython()\u001b[38;5;241m.\u001b[39mrun_line_magic(\u001b[38;5;124m'\u001b[39m\u001b[38;5;124mmatplotlib\u001b[39m\u001b[38;5;124m'\u001b[39m, \u001b[38;5;124m'\u001b[39m\u001b[38;5;124minline\u001b[39m\u001b[38;5;124m'\u001b[39m)\n\u001b[1;32m----> 2\u001b[0m \u001b[38;5;28;01mimport\u001b[39;00m \u001b[38;5;21;01mtorch\u001b[39;00m\n\u001b[0;32m      3\u001b[0m \u001b[38;5;28;01mimport\u001b[39;00m \u001b[38;5;21;01mtorchvision\u001b[39;00m\n\u001b[0;32m      4\u001b[0m \u001b[38;5;28;01mfrom\u001b[39;00m \u001b[38;5;21;01mtorch\u001b[39;00m\u001b[38;5;21;01m.\u001b[39;00m\u001b[38;5;21;01mutils\u001b[39;00m \u001b[38;5;28;01mimport\u001b[39;00m data\n",
      "\u001b[1;31mModuleNotFoundError\u001b[0m: No module named 'torch'"
     ]
    }
   ],
   "source": [
    "%matplotlib inline\n",
    "import torch\n",
    "import torchvision\n",
    "from torch.utils import data\n",
    "from torchvision import transforms\n",
    "from d2l import torch as d2l\n",
    "\n",
    "d2l.use_svg_display()"
   ]
  },
  {
   "cell_type": "markdown",
   "id": "567fcd48",
   "metadata": {
    "origin_pos": 4
   },
   "source": [
    "## 读取数据集\n",
    "\n",
    "我们可以[**通过框架中的内置函数将Fashion-MNIST数据集下载并读取到内存中**]。\n"
   ]
  },
  {
   "cell_type": "code",
   "execution_count": null,
   "id": "22922fee",
   "metadata": {
    "execution": {
     "iopub.execute_input": "2022-07-31T02:52:16.372960Z",
     "iopub.status.busy": "2022-07-31T02:52:16.372352Z",
     "iopub.status.idle": "2022-07-31T02:52:16.475016Z",
     "shell.execute_reply": "2022-07-31T02:52:16.474304Z"
    },
    "origin_pos": 6,
    "tab": [
     "pytorch"
    ]
   },
   "outputs": [],
   "source": [
    "# 通过ToTensor实例将图像数据从PIL类型变换成32位浮点数格式，\n",
    "# 并除以255使得所有像素的数值均在0到1之间\n",
    "trans = transforms.ToTensor()\n",
    "mnist_train = torchvision.datasets.FashionMNIST(\n",
    "    root=\"../data\", train=True, transform=trans, download=True)\n",
    "mnist_test = torchvision.datasets.FashionMNIST(\n",
    "    root=\"../data\", train=False, transform=trans, download=True)"
   ]
  },
  {
   "cell_type": "markdown",
   "id": "a97e113e",
   "metadata": {
    "origin_pos": 8
   },
   "source": [
    "Fashion-MNIST由10个类别的图像组成，\n",
    "每个类别由*训练数据集*（train dataset）中的6000张图像\n",
    "和*测试数据集*（test dataset）中的1000张图像组成。\n",
    "因此，训练集和测试集分别包含60000和10000张图像。\n",
    "测试数据集不会用于训练，只用于评估模型性能。\n"
   ]
  },
  {
   "cell_type": "code",
   "execution_count": null,
   "id": "b78fd896",
   "metadata": {
    "execution": {
     "iopub.execute_input": "2022-07-31T02:52:16.479781Z",
     "iopub.status.busy": "2022-07-31T02:52:16.479296Z",
     "iopub.status.idle": "2022-07-31T02:52:16.486721Z",
     "shell.execute_reply": "2022-07-31T02:52:16.486090Z"
    },
    "origin_pos": 9,
    "tab": [
     "pytorch"
    ]
   },
   "outputs": [],
   "source": [
    "len(mnist_train), len(mnist_test)"
   ]
  },
  {
   "cell_type": "markdown",
   "id": "89d944d7",
   "metadata": {
    "origin_pos": 11
   },
   "source": [
    "每个输入图像的高度和宽度均为28像素。\n",
    "数据集由灰度图像组成，其通道数为1。\n",
    "为了简洁起见，本书将高度$h$像素、宽度$w$像素图像的形状记为$h \\times w$或（$h$,$w$）。\n"
   ]
  },
  {
   "cell_type": "code",
   "execution_count": null,
   "id": "108cb5bf",
   "metadata": {
    "execution": {
     "iopub.execute_input": "2022-07-31T02:52:16.492191Z",
     "iopub.status.busy": "2022-07-31T02:52:16.491880Z",
     "iopub.status.idle": "2022-07-31T02:52:16.497613Z",
     "shell.execute_reply": "2022-07-31T02:52:16.496988Z"
    },
    "origin_pos": 12,
    "tab": [
     "pytorch"
    ]
   },
   "outputs": [],
   "source": [
    "mnist_train[0][0].shape"
   ]
  },
  {
   "cell_type": "markdown",
   "id": "3e4f66aa",
   "metadata": {
    "origin_pos": 13
   },
   "source": [
    "[~~两个可视化数据集的函数~~]\n",
    "\n",
    "Fashion-MNIST中包含的10个类别，分别为t-shirt（T恤）、trouser（裤子）、pullover（套衫）、dress（连衣裙）、coat（外套）、sandal（凉鞋）、shirt（衬衫）、sneaker（运动鞋）、bag（包）和ankle boot（短靴）。\n",
    "以下函数用于在数字标签索引及其文本名称之间进行转换。\n"
   ]
  },
  {
   "cell_type": "code",
   "execution_count": 3,
   "id": "f7658f2c",
   "metadata": {
    "execution": {
     "iopub.execute_input": "2022-07-31T02:52:16.501700Z",
     "iopub.status.busy": "2022-07-31T02:52:16.501191Z",
     "iopub.status.idle": "2022-07-31T02:52:16.505742Z",
     "shell.execute_reply": "2022-07-31T02:52:16.505125Z"
    },
    "origin_pos": 14,
    "tab": [
     "pytorch"
    ]
   },
   "outputs": [],
   "source": [
    "def get_fashion_mnist_labels(labels):  #@save\n",
    "    \"\"\"返回Fashion-MNIST数据集的文本标签\"\"\"\n",
    "    text_labels = ['t-shirt', 'trouser', 'pullover', 'dress', 'coat',\n",
    "                   'sandal', 'shirt', 'sneaker', 'bag', 'ankle boot']\n",
    "    return [text_labels[int(i)] for i in labels]"
   ]
  },
  {
   "cell_type": "markdown",
   "id": "51cc62a8",
   "metadata": {
    "origin_pos": 15
   },
   "source": [
    "我们现在可以创建一个函数来可视化这些样本。\n"
   ]
  },
  {
   "cell_type": "code",
   "execution_count": 4,
   "id": "fdb2064b",
   "metadata": {
    "execution": {
     "iopub.execute_input": "2022-07-31T02:52:16.509626Z",
     "iopub.status.busy": "2022-07-31T02:52:16.509341Z",
     "iopub.status.idle": "2022-07-31T02:52:16.515146Z",
     "shell.execute_reply": "2022-07-31T02:52:16.514491Z"
    },
    "origin_pos": 17,
    "tab": [
     "pytorch"
    ]
   },
   "outputs": [],
   "source": [
    "def show_images(imgs, num_rows, num_cols, titles=None, scale=1.5):  #@save\n",
    "    \"\"\"绘制图像列表\"\"\"\n",
    "    figsize = (num_cols * scale, num_rows * scale)\n",
    "    _, axes = d2l.plt.subplots(num_rows, num_cols, figsize=figsize)\n",
    "    axes = axes.flatten()\n",
    "    for i, (ax, img) in enumerate(zip(axes, imgs)):\n",
    "        if torch.is_tensor(img):\n",
    "            # 图片张量\n",
    "            ax.imshow(img.numpy())\n",
    "        else:\n",
    "            # PIL图片\n",
    "            ax.imshow(img)\n",
    "        ax.axes.get_xaxis().set_visible(False)\n",
    "        ax.axes.get_yaxis().set_visible(False)\n",
    "        if titles:\n",
    "            ax.set_title(titles[i])\n",
    "    return axes"
   ]
  },
  {
   "cell_type": "markdown",
   "id": "74406e8c",
   "metadata": {
    "origin_pos": 18
   },
   "source": [
    "以下是训练数据集中前[**几个样本的图像及其相应的标签**]。\n"
   ]
  },
  {
   "cell_type": "code",
   "execution_count": 5,
   "id": "82b5b206",
   "metadata": {
    "execution": {
     "iopub.execute_input": "2022-07-31T02:52:16.518834Z",
     "iopub.status.busy": "2022-07-31T02:52:16.518631Z",
     "iopub.status.idle": "2022-07-31T02:52:17.299799Z",
     "shell.execute_reply": "2022-07-31T02:52:17.299075Z"
    },
    "origin_pos": 20,
    "tab": [
     "pytorch"
    ]
   },
   "outputs": [
    {
     "ename": "NameError",
     "evalue": "name 'data' is not defined",
     "output_type": "error",
     "traceback": [
      "\u001b[1;31m---------------------------------------------------------------------------\u001b[0m",
      "\u001b[1;31mNameError\u001b[0m                                 Traceback (most recent call last)",
      "Input \u001b[1;32mIn [5]\u001b[0m, in \u001b[0;36m<cell line: 1>\u001b[1;34m()\u001b[0m\n\u001b[1;32m----> 1\u001b[0m X, y \u001b[38;5;241m=\u001b[39m \u001b[38;5;28mnext\u001b[39m(\u001b[38;5;28miter\u001b[39m(\u001b[43mdata\u001b[49m\u001b[38;5;241m.\u001b[39mDataLoader(mnist_train, batch_size\u001b[38;5;241m=\u001b[39m\u001b[38;5;241m18\u001b[39m)))\n\u001b[0;32m      2\u001b[0m show_images(X\u001b[38;5;241m.\u001b[39mreshape(\u001b[38;5;241m18\u001b[39m, \u001b[38;5;241m28\u001b[39m, \u001b[38;5;241m28\u001b[39m), \u001b[38;5;241m2\u001b[39m, \u001b[38;5;241m9\u001b[39m, titles\u001b[38;5;241m=\u001b[39mget_fashion_mnist_labels(y))\n",
      "\u001b[1;31mNameError\u001b[0m: name 'data' is not defined"
     ]
    }
   ],
   "source": [
    "X, y = next(iter(data.DataLoader(mnist_train, batch_size=18)))\n",
    "show_images(X.reshape(18, 28, 28), 2, 9, titles=get_fashion_mnist_labels(y));"
   ]
  },
  {
   "cell_type": "markdown",
   "id": "3a92564a",
   "metadata": {
    "origin_pos": 22
   },
   "source": [
    "## 读取小批量\n",
    "\n",
    "为了使我们在读取训练集和测试集时更容易，我们使用内置的数据迭代器，而不是从零开始创建。\n",
    "回顾一下，在每次迭代中，数据加载器每次都会[**读取一小批量数据，大小为`batch_size`**]。\n",
    "通过内置数据迭代器，我们可以随机打乱了所有样本，从而无偏见地读取小批量。\n"
   ]
  },
  {
   "cell_type": "code",
   "execution_count": 3,
   "id": "fdf585b4",
   "metadata": {
    "execution": {
     "iopub.execute_input": "2022-07-31T02:52:17.307708Z",
     "iopub.status.busy": "2022-07-31T02:52:17.307494Z",
     "iopub.status.idle": "2022-07-31T02:52:17.312458Z",
     "shell.execute_reply": "2022-07-31T02:52:17.311655Z"
    },
    "origin_pos": 24,
    "tab": [
     "pytorch"
    ]
   },
   "outputs": [],
   "source": [
    "batch_size = 256\n",
    "\n",
    "def get_dataloader_workers():  #@save\n",
    "    \"\"\"使用4个进程来读取数据\"\"\"\n",
    "    return 4\n",
    "\n",
    "train_iter = data.DataLoader(mnist_train, batch_size, shuffle=True,\n",
    "                             num_workers=get_dataloader_workers())"
   ]
  },
  {
   "cell_type": "markdown",
   "id": "a25ffb31",
   "metadata": {
    "origin_pos": 26
   },
   "source": [
    "我们看一下读取训练数据所需的时间。\n"
   ]
  },
  {
   "cell_type": "code",
   "execution_count": 4,
   "id": "a4ba15c9",
   "metadata": {
    "execution": {
     "iopub.execute_input": "2022-07-31T02:52:17.316196Z",
     "iopub.status.busy": "2022-07-31T02:52:17.315994Z",
     "iopub.status.idle": "2022-07-31T02:52:19.738565Z",
     "shell.execute_reply": "2022-07-31T02:52:19.737843Z"
    },
    "origin_pos": 27,
    "tab": [
     "pytorch"
    ]
   },
   "outputs": [
    {
     "data": {
      "text/plain": [
       "'7.03 sec'"
      ]
     },
     "execution_count": 4,
     "metadata": {},
     "output_type": "execute_result"
    }
   ],
   "source": [
    "timer = d2l.Timer()\n",
    "for X, y in train_iter:\n",
    "    continue\n",
    "f'{timer.stop():.2f} sec'"
   ]
  },
  {
   "cell_type": "markdown",
   "id": "5f3606e9",
   "metadata": {
    "origin_pos": 28
   },
   "source": [
    "## 整合所有组件\n",
    "\n",
    "现在我们[**定义`load_data_fashion_mnist`函数**]，用于获取和读取Fashion-MNIST数据集。\n",
    "这个函数返回训练集和验证集的数据迭代器。\n",
    "此外，这个函数还接受一个可选参数`resize`，用来将图像大小调整为另一种形状。\n"
   ]
  },
  {
   "cell_type": "code",
   "execution_count": 10,
   "id": "ff08f73a",
   "metadata": {
    "execution": {
     "iopub.execute_input": "2022-07-31T02:52:19.743500Z",
     "iopub.status.busy": "2022-07-31T02:52:19.742463Z",
     "iopub.status.idle": "2022-07-31T02:52:19.751709Z",
     "shell.execute_reply": "2022-07-31T02:52:19.750758Z"
    },
    "origin_pos": 30,
    "tab": [
     "pytorch"
    ]
   },
   "outputs": [],
   "source": [
    "def load_data_fashion_mnist(batch_size, resize=None):  #@save\n",
    "    \"\"\"下载Fashion-MNIST数据集，然后将其加载到内存中\"\"\"\n",
    "    trans = [transforms.ToTensor()]\n",
    "    if resize:\n",
    "        trans.insert(0, transforms.Resize(resize))\n",
    "    trans = transforms.Compose(trans)\n",
    "    mnist_train = torchvision.datasets.FashionMNIST(\n",
    "        root=\"../data\", train=True, transform=trans, download=True)\n",
    "    mnist_test = torchvision.datasets.FashionMNIST(\n",
    "        root=\"../data\", train=False, transform=trans, download=True)\n",
    "    return (data.DataLoader(mnist_train, batch_size, shuffle=True,\n",
    "                            num_workers=get_dataloader_workers()),\n",
    "            data.DataLoader(mnist_test, batch_size, shuffle=False,\n",
    "                            num_workers=get_dataloader_workers()))"
   ]
  },
  {
   "cell_type": "markdown",
   "id": "50d380f8",
   "metadata": {
    "origin_pos": 32
   },
   "source": [
    "下面，我们通过指定`resize`参数来测试`load_data_fashion_mnist`函数的图像大小调整功能。\n"
   ]
  },
  {
   "cell_type": "code",
   "execution_count": 11,
   "id": "562b2e89",
   "metadata": {
    "execution": {
     "iopub.execute_input": "2022-07-31T02:52:19.755477Z",
     "iopub.status.busy": "2022-07-31T02:52:19.754740Z",
     "iopub.status.idle": "2022-07-31T02:52:19.939410Z",
     "shell.execute_reply": "2022-07-31T02:52:19.938475Z"
    },
    "origin_pos": 33,
    "tab": [
     "pytorch"
    ]
   },
   "outputs": [
    {
     "name": "stdout",
     "output_type": "stream",
     "text": [
      "torch.Size([32, 1, 64, 64]) torch.float32 torch.Size([32]) torch.int64\n"
     ]
    }
   ],
   "source": [
    "train_iter, test_iter = load_data_fashion_mnist(32, resize=64)\n",
    "for X, y in train_iter:\n",
    "    print(X.shape, X.dtype, y.shape, y.dtype)\n",
    "    break"
   ]
  },
  {
   "cell_type": "markdown",
   "id": "452e6657",
   "metadata": {
    "origin_pos": 34
   },
   "source": [
    "我们现在已经准备好使用Fashion-MNIST数据集，便于下面的章节调用来评估各种分类算法。\n",
    "\n",
    "## 小结\n",
    "\n",
    "* Fashion-MNIST是一个服装分类数据集，由10个类别的图像组成。我们将在后续章节中使用此数据集来评估各种分类算法。\n",
    "* 我们将高度$h$像素，宽度$w$像素图像的形状记为$h \\times w$或（$h$,$w$）。\n",
    "* 数据迭代器是获得更高性能的关键组件。依靠实现良好的数据迭代器，利用高性能计算来避免减慢训练过程。\n",
    "\n",
    "## 练习\n",
    "\n",
    "1. 减少`batch_size`（如减少到1）是否会影响读取性能？\n",
    "1. 数据迭代器的性能非常重要。你认为当前的实现足够快吗？探索各种选择来改进它。\n",
    "1. 查阅框架的在线API文档。还有哪些其他数据集可用？\n"
   ]
  },
  {
   "cell_type": "markdown",
   "id": "e16cb48b",
   "metadata": {
    "origin_pos": 36,
    "tab": [
     "pytorch"
    ]
   },
   "source": [
    "[Discussions](https://discuss.d2l.ai/t/1787)\n"
   ]
  }
 ],
 "metadata": {
  "kernelspec": {
   "display_name": "Python 3 (ipykernel)",
   "language": "python",
   "name": "python3"
  },
  "language_info": {
   "codemirror_mode": {
    "name": "ipython",
    "version": 3
   },
   "file_extension": ".py",
   "mimetype": "text/x-python",
   "name": "python",
   "nbconvert_exporter": "python",
   "pygments_lexer": "ipython3",
   "version": "3.9.12"
  }
 },
 "nbformat": 4,
 "nbformat_minor": 5
}
